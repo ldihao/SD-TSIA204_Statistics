{
 "cells": [
  {
   "cell_type": "markdown",
   "metadata": {},
   "source": [
    "# import library"
   ]
  },
  {
   "cell_type": "code",
   "execution_count": 1,
   "metadata": {},
   "outputs": [],
   "source": [
    "import numpy as np\n",
    "from scipy.stats import norm\n",
    "from sklearn import datasets\n",
    "%matplotlib inline\n",
    "import matplotlib\n",
    "import matplotlib.pyplot as plt \n",
    "from sklearn import linear_model"
   ]
  },
  {
   "cell_type": "markdown",
   "metadata": {},
   "source": [
    "# Import ''diabetes''"
   ]
  },
  {
   "cell_type": "code",
   "execution_count": 2,
   "metadata": {},
   "outputs": [],
   "source": [
    "datasets.load_diabetes()\n",
    "\n",
    "diabetes = datasets.load_diabetes()\n",
    "diabetes_X = diabetes.data\n",
    "diabetes_y = diabetes.target"
   ]
  },
  {
   "cell_type": "markdown",
   "metadata": {},
   "source": [
    "Each variable is centered and standardized:"
   ]
  },
  {
   "cell_type": "code",
   "execution_count": 3,
   "metadata": {},
   "outputs": [
    {
     "name": "stdout",
     "output_type": "stream",
     "text": [
      "[-1.60635394e-13  5.78287418e-14 -3.55604435e-13  5.66491298e-14\n",
      " -3.90520949e-14  5.86544702e-14 -2.02199368e-13  1.66956726e-13\n",
      " -1.69323756e-13 -1.50849385e-13]\n",
      "[[ 1.          0.1737371   0.18508467  0.33542671  0.26006082  0.21924314\n",
      "  -0.07518097  0.2038409   0.27077678  0.30173101]\n",
      " [ 0.1737371   1.          0.0881614   0.24101317  0.03527682  0.14263726\n",
      "  -0.37908963  0.33211509  0.14991756  0.20813322]\n",
      " [ 0.18508467  0.0881614   1.          0.39541532  0.24977742  0.26116991\n",
      "  -0.36681098  0.4138066   0.44615865  0.38867999]\n",
      " [ 0.33542671  0.24101317  0.39541532  1.          0.24246971  0.18555783\n",
      "  -0.17876121  0.25765337  0.39347814  0.39042938]\n",
      " [ 0.26006082  0.03527682  0.24977742  0.24246971  1.          0.89666296\n",
      "   0.05151936  0.54220728  0.51550076  0.32571675]\n",
      " [ 0.21924314  0.14263726  0.26116991  0.18555783  0.89666296  1.\n",
      "  -0.19645512  0.65981689  0.3183534   0.29060038]\n",
      " [-0.07518097 -0.37908963 -0.36681098 -0.17876121  0.05151936 -0.19645512\n",
      "   1.         -0.73849273 -0.398577   -0.2736973 ]\n",
      " [ 0.2038409   0.33211509  0.4138066   0.25765337  0.54220728  0.65981689\n",
      "  -0.73849273  1.          0.61785739  0.41721211]\n",
      " [ 0.27077678  0.14991756  0.44615865  0.39347814  0.51550076  0.3183534\n",
      "  -0.398577    0.61785739  1.          0.46467046]\n",
      " [ 0.30173101  0.20813322  0.38867999  0.39042938  0.32571675  0.29060038\n",
      "  -0.2736973   0.41721211  0.46467046  1.        ]]\n"
     ]
    }
   ],
   "source": [
    "print(diabetes_X.sum(axis = 0))\n",
    "print(np.dot(np.transpose(diabetes_X),diabetes_X))"
   ]
  },
  {
   "cell_type": "markdown",
   "metadata": {},
   "source": [
    "# To increase the level of difficulty, we add some (insignificant) Gaussian variable to the database"
   ]
  },
  {
   "cell_type": "code",
   "execution_count": 4,
   "metadata": {},
   "outputs": [
    {
     "data": {
      "text/plain": [
       "(442, 110)"
      ]
     },
     "execution_count": 4,
     "metadata": {},
     "output_type": "execute_result"
    }
   ],
   "source": [
    "n = diabetes_X.shape[0]\n",
    "\n",
    "xadd = np.random.normal(0,1,[n,100])\n",
    "\n",
    "diabetes_X  = np.column_stack((diabetes_X,xadd))\n",
    "diabetes_X.shape"
   ]
  },
  {
   "cell_type": "markdown",
   "metadata": {},
   "source": [
    "# Now we split the sample in two parts: A training set and a test set "
   ]
  },
  {
   "cell_type": "code",
   "execution_count": 5,
   "metadata": {},
   "outputs": [
    {
     "data": {
      "text/plain": [
       "((300, 110), (141, 110), (300,), (141,))"
      ]
     },
     "execution_count": 5,
     "metadata": {},
     "output_type": "execute_result"
    }
   ],
   "source": [
    "diabetes_X_learn = diabetes_X[:300]\n",
    "diabetes_y_learn = diabetes_y[:300]\n",
    "diabetes_X_test = diabetes_X[301:]\n",
    "diabetes_y_test = diabetes_y[301:]\n",
    "\n",
    "diabetes_X_learn.shape ,diabetes_X_test.shape , diabetes_y_learn.shape , diabetes_y_test.shape"
   ]
  },
  {
   "cell_type": "markdown",
   "metadata": {},
   "source": [
    "OLS with sk learn (we keep in R1 the prediction error computed on the test set)"
   ]
  },
  {
   "cell_type": "code",
   "execution_count": 6,
   "metadata": {},
   "outputs": [
    {
     "name": "stdout",
     "output_type": "stream",
     "text": [
      "[ 7.43265374e+01 -2.40430226e+02  5.96699090e+02  2.58985837e+02\n",
      " -7.97327294e+02  2.89845166e+02  3.23982903e+02  3.08125698e+02\n",
      "  8.55366904e+02  3.01925745e+01  7.71827445e+00  1.80374933e+00\n",
      " -1.35446859e+00 -5.14801595e+00 -1.21182147e+00 -1.10613624e+00\n",
      "  3.92705836e+00  7.50488923e+00  6.60788015e+00 -4.02568349e+00\n",
      "  3.44897876e+00 -4.31963426e+00  4.44860493e+00  3.26137738e+00\n",
      " -1.50685295e+00 -4.39530452e+00  2.06378330e+00 -6.59428367e-01\n",
      "  8.07371077e+00 -1.21214771e-01  1.14324261e+00 -3.49509330e+00\n",
      "  2.05522302e+00 -1.96206651e+00 -2.69110516e+00 -5.15600235e+00\n",
      "  7.91700675e-01  1.23237384e+01 -4.95269401e+00  1.29916927e+00\n",
      "  2.74094754e+00  5.08433934e+00 -2.44925985e-01 -5.29623556e+00\n",
      "  9.70511262e-01 -4.09122889e+00  8.11506223e+00 -2.75533843e+00\n",
      " -2.10552557e+00 -2.17556787e+00 -1.03569233e+00  2.67904536e+00\n",
      "  3.47873112e+00 -2.72410515e+00 -1.25564310e-01 -7.95573419e-01\n",
      " -2.56680800e+00  5.73869230e-01  3.03412234e+00  4.65840742e+00\n",
      " -4.44616424e+00  1.99098029e-02 -1.05090394e+00 -1.54247050e+00\n",
      " -2.18013206e+00 -1.19468897e+00  3.42046449e+00 -1.92048221e+00\n",
      "  8.33520240e+00  3.26928994e-01 -3.02474217e+00 -9.61517963e-01\n",
      " -3.33966419e+00  2.14492846e+00  2.92053316e+00  3.59438199e-01\n",
      "  5.22417240e-01 -2.43977247e+00  1.51612222e-01 -1.70260645e+00\n",
      "  3.52630730e+00 -1.01629923e+00  4.74242419e-01  9.79009417e-01\n",
      "  1.26294953e+01  1.27598134e+00  5.85820595e+00 -6.65917702e+00\n",
      " -2.89525116e+00 -6.75598748e+00 -3.15993760e+00 -2.08667164e+00\n",
      "  2.63193593e+00 -9.34729425e-01  2.05542153e+00  4.64301755e+00\n",
      " -1.27859638e+00 -7.42796804e+00 -6.42255466e-01 -2.74724759e+00\n",
      " -1.75185852e+00 -6.01941261e-01 -1.94912774e-01 -3.26938598e-01\n",
      " -1.01574565e+00 -1.39949948e+00  1.94149244e+00 -6.96358344e-01\n",
      " -4.29031676e+00  2.42705799e+00]\n",
      "152.72494570811037\n"
     ]
    }
   ],
   "source": [
    "regr = linear_model.LinearRegression()\n",
    "regr.fit(diabetes_X_learn , diabetes_y_learn)\n",
    "\n",
    "print(regr.coef_)\n",
    "print(regr.intercept_)\n",
    "\n",
    "R1 = regr.predict(diabetes_X_test) - diabetes_y_test"
   ]
  },
  {
   "cell_type": "markdown",
   "metadata": {},
   "source": [
    "# A first graph to visualize the residuals"
   ]
  },
  {
   "cell_type": "code",
   "execution_count": 7,
   "metadata": {},
   "outputs": [
    {
     "data": {
      "image/png": "[encoded data removed]",
      "text/plain": [
       "<matplotlib.figure.Figure at 0x10c0de550>"
      ]
     },
     "metadata": {},
     "output_type": "display_data"
    }
   ],
   "source": [
    "ypred_tmp = np.dot(diabetes_X_learn , regr.coef_ )\n",
    "ypred = ypred_tmp +  regr.intercept_ \n",
    "#ypred = regr.predict(diabetes_X)\n",
    "\n",
    "\n",
    "plt.figure() \n",
    "plt.plot(ypred_tmp , ypred)\n",
    "plt.scatter(ypred_tmp , diabetes_y_learn , s =3 )\n",
    "plt.title(\"y et y_pred vs xbeta\")\n",
    "plt.show()\n"
   ]
  },
  {
   "cell_type": "markdown",
   "metadata": {},
   "source": [
    "# Forward variable selection"
   ]
  },
  {
   "cell_type": "code",
   "execution_count": 8,
   "metadata": {},
   "outputs": [],
   "source": [
    "diabetes_X_aug = np.column_stack( (np.ones( (diabetes_X_learn.shape[0], 1 )), diabetes_X_learn )) \n",
    "\n",
    "p = diabetes_X_aug.shape[1]\n",
    "n = diabetes_X_aug.shape[0]\n",
    "\n",
    "test = np.zeros((p,p))\n",
    "pval_mem = np.zeros(p)\n",
    "pval = np.zeros((p,p))\n",
    "resids = diabetes_y_learn\n",
    "\n",
    "var_sel = []\n",
    "var_remain = list(range(p))\n",
    "in_test = []\n",
    "\n",
    "\n",
    "regr = linear_model.LinearRegression(fit_intercept = False)\n",
    "\n",
    "\n",
    "for k in range(p): \n",
    "    resids_mem = np.zeros((p,n))\n",
    "\n",
    "    for i in var_remain:\n",
    "        xtmp = diabetes_X_aug [:,[i]]\n",
    "        regr.fit(xtmp , resids)\n",
    "        \n",
    "        #calcul de (x'x)\n",
    "        xx = np.sum( diabetes_X_aug [:,[i]] ** 2 )    \n",
    "        resids_mem [i,:] = regr.predict(xtmp) - resids\n",
    "        sigma2_tmp = np.sum (resids_mem [i,:] ** 2) / xx\n",
    "        test[k,i] = np.sqrt(n) * np.abs(regr.coef_) / (np.sqrt( sigma2_tmp )) \n",
    "        pval[k,i] =   2 * (1 - norm.cdf(test[k,i]))\n",
    "\n",
    "    ####separe en deux vecteurs la listes des variables séléctionnées et les autres\n",
    "    best_var = np.argmax(test[k,:])\n",
    "    var_sel.append(best_var)\n",
    "    resids = resids_mem[best_var,:]\n",
    "    pval_mem [k] = pval[k,best_var]\n",
    "    var_remain = np.setdiff1d(var_remain,var_sel)\n",
    "\n"
   ]
  },
  {
   "cell_type": "markdown",
   "metadata": {},
   "source": [
    "Let us plot the value of the test statistic for the 3 first steps"
   ]
  },
  {
   "cell_type": "code",
   "execution_count": 9,
   "metadata": {},
   "outputs": [
    {
     "data": {
      "image/png": "[encoded data removed]",
      "text/plain": [
       "<matplotlib.figure.Figure at 0x1a173eeba8>"
      ]
     },
     "metadata": {},
     "output_type": "display_data"
    }
   ],
   "source": [
    "def foo(s1):\n",
    "    return \"step %s\" % s1\n",
    "\n",
    "fig = plt.figure()\n",
    "for k in range(3): \n",
    "    lab_tmp = foo(k)\n",
    "    plt.plot(np.arange(p),test[k,:], '-o',label = lab_tmp)\n",
    "    plt.axis(xmin = -.5,xmax = 20,ymin = -1)\n",
    "plt.legend(loc=1)\n",
    "plt.title(\"values of the t-stat at each steps\")\n",
    "plt.xlabel(\"features\")\n",
    "plt.show()"
   ]
  },
  {
   "cell_type": "markdown",
   "metadata": {},
   "source": [
    "At each step one may look at the pvalue associated to the selected variable "
   ]
  },
  {
   "cell_type": "code",
   "execution_count": 10,
   "metadata": {},
   "outputs": [
    {
     "data": {
      "image/png": "[encoded data removed]",
      "text/plain": [
       "<matplotlib.figure.Figure at 0x1a175819b0>"
      ]
     },
     "metadata": {},
     "output_type": "display_data"
    }
   ],
   "source": [
    "fig2 = plt.figure() \n",
    "for k in range(3): \n",
    "    plt.plot(np.arange(p),pval_mem, 'o')\n",
    "    plt.plot([-0.5,50],[.1,.1],color = \"blue\" )\n",
    "    plt.axis(xmin = -.5,xmax = 50,ymin = -.03)\n",
    "plt.title(\"plot of the pvalues\")\n",
    "plt.xlabel(\"steps\")\n",
    "plt.show()"
   ]
  },
  {
   "cell_type": "markdown",
   "metadata": {},
   "source": [
    "# We obtained the following selected variables"
   ]
  },
  {
   "cell_type": "code",
   "execution_count": 11,
   "metadata": {},
   "outputs": [
    {
     "name": "stdout",
     "output_type": "stream",
     "text": [
      "variables sélectionnées (dans l'ordre):  [ 0  3  9 42 47 44  2  5 69 98 85 90 96  4 38 33 68 53]\n"
     ]
    }
   ],
   "source": [
    "print(\"variables sélectionnées (dans l'ordre): \" , \n",
    "      np.array(var_sel)[pval_mem<.1])"
   ]
  },
  {
   "cell_type": "markdown",
   "metadata": {},
   "source": [
    "# Now we can run OLS with the selected variables"
   ]
  },
  {
   "cell_type": "code",
   "execution_count": 12,
   "metadata": {},
   "outputs": [
    {
     "name": "stdout",
     "output_type": "stream",
     "text": [
      "[ 2.95677608e+02  2.47103284e+02  2.64515344e+00  3.82682733e-01\n",
      " -7.64406342e-01  7.88823100e+02 -2.74176455e+02  3.45401312e+00\n",
      " -1.20544821e+00  1.12556249e+00 -2.54127802e+00  1.81660988e+00\n",
      "  1.67032091e+02  4.31109343e-01 -2.79828516e+00  7.52024306e+00\n",
      " -3.30647556e+00]\n",
      "151.39211302226727\n"
     ]
    }
   ],
   "source": [
    "sel = np.array(var_sel)[pval_mem<.1]\n",
    "k = np.count_nonzero(sel)\n",
    "sel = sel[1:]\n",
    "X_learn_forward = diabetes_X_learn[:,sel]\n",
    "\n",
    "regr = linear_model.LinearRegression()\n",
    "regr.fit(X_learn_forward , diabetes_y_learn)\n",
    "\n",
    "print(regr.coef_)\n",
    "print(regr.intercept_)\n",
    "\n",
    "R2 = regr.predict(  diabetes_X_test[:,sel] )  - diabetes_y_test"
   ]
  },
  {
   "cell_type": "code",
   "execution_count": 17,
   "metadata": {},
   "outputs": [
    {
     "data": {
      "text/plain": [
       "[0,\n",
       " 3,\n",
       " 9,\n",
       " 42,\n",
       " 47,\n",
       " 44,\n",
       " 2,\n",
       " 5,\n",
       " 69,\n",
       " 98,\n",
       " 85,\n",
       " 90,\n",
       " 96,\n",
       " 4,\n",
       " 38,\n",
       " 33,\n",
       " 68,\n",
       " 54,\n",
       " 29,\n",
       " 39,\n",
       " 100,\n",
       " 88,\n",
       " 11,\n",
       " 53,\n",
       " 61,\n",
       " 6,\n",
       " 14,\n",
       " 87,\n",
       " 17,\n",
       " 18,\n",
       " 7,\n",
       " 36,\n",
       " 26,\n",
       " 101,\n",
       " 21,\n",
       " 34,\n",
       " 49,\n",
       " 66,\n",
       " 91,\n",
       " 22,\n",
       " 48,\n",
       " 92,\n",
       " 110,\n",
       " 73,\n",
       " 23,\n",
       " 52,\n",
       " 57,\n",
       " 75,\n",
       " 1,\n",
       " 71,\n",
       " 59,\n",
       " 105,\n",
       " 60,\n",
       " 19,\n",
       " 50,\n",
       " 41,\n",
       " 81,\n",
       " 46,\n",
       " 89,\n",
       " 32,\n",
       " 45,\n",
       " 67,\n",
       " 24,\n",
       " 16,\n",
       " 65,\n",
       " 43,\n",
       " 27,\n",
       " 97,\n",
       " 63,\n",
       " 35,\n",
       " 20,\n",
       " 56,\n",
       " 25,\n",
       " 106,\n",
       " 12,\n",
       " 84,\n",
       " 86,\n",
       " 8,\n",
       " 102,\n",
       " 95,\n",
       " 78,\n",
       " 58,\n",
       " 79,\n",
       " 51,\n",
       " 70,\n",
       " 103,\n",
       " 107,\n",
       " 108,\n",
       " 13,\n",
       " 28,\n",
       " 10,\n",
       " 109,\n",
       " 80,\n",
       " 104,\n",
       " 83,\n",
       " 62,\n",
       " 31,\n",
       " 74,\n",
       " 72,\n",
       " 77,\n",
       " 76,\n",
       " 40,\n",
       " 82,\n",
       " 99,\n",
       " 64,\n",
       " 94,\n",
       " 37,\n",
       " 30,\n",
       " 93,\n",
       " 15,\n",
       " 55]"
      ]
     },
     "execution_count": 17,
     "metadata": {},
     "output_type": "execute_result"
    }
   ],
   "source": [
    "var_sel"
   ]
  },
  {
   "cell_type": "markdown",
   "metadata": {},
   "source": [
    "# Finally, we compare OLS and OLS with forward variable selection according the prediction risk computed on the test set"
   ]
  },
  {
   "cell_type": "code",
   "execution_count": 13,
   "metadata": {},
   "outputs": [
    {
     "data": {
      "text/plain": [
       "(647879.4085970597, 509208.5223438035)"
      ]
     },
     "execution_count": 13,
     "metadata": {},
     "output_type": "execute_result"
    }
   ],
   "source": [
    "sum(R1 ** 2 )  , sum ( R2** 2 )"
   ]
  }
 ],
 "metadata": {
  "anaconda-cloud": {},
  "kernelspec": {
   "display_name": "Python 3",
   "language": "python",
   "name": "python3"
  },
  "language_info": {
   "codemirror_mode": {
    "name": "ipython",
    "version": 3
   },
   "file_extension": ".py",
   "mimetype": "text/x-python",
   "name": "python",
   "nbconvert_exporter": "python",
   "pygments_lexer": "ipython3",
   "version": "3.6.4"
  }
 },
 "nbformat": 4,
 "nbformat_minor": 1
}
