{
 "cells": [
  {
   "cell_type": "markdown",
   "metadata": {},
   "source": [
    "# import library"
   ]
  },
  {
   "cell_type": "code",
   "execution_count": 2,
   "metadata": {
    "collapsed": false
   },
   "outputs": [],
   "source": [
    "import numpy as np\n",
    "from scipy.stats import norm\n",
    "from sklearn import datasets\n",
    "%matplotlib inline\n",
    "import matplotlib\n",
    "import matplotlib.pyplot as plt \n",
    "from sklearn import linear_model"
   ]
  },
  {
   "cell_type": "markdown",
   "metadata": {},
   "source": [
    "# Import ''diabetes''"
   ]
  },
  {
   "cell_type": "code",
   "execution_count": 3,
   "metadata": {
    "collapsed": false
   },
   "outputs": [],
   "source": [
    "datasets.load_diabetes()\n",
    "\n",
    "diabetes = datasets.load_diabetes()\n",
    "diabetes_X = diabetes.data\n",
    "diabetes_y = diabetes.target"
   ]
  },
  {
   "cell_type": "markdown",
   "metadata": {},
   "source": [
    "Each variable is centered and standardized:"
   ]
  },
  {
   "cell_type": "code",
   "execution_count": 9,
   "metadata": {
    "collapsed": false
   },
   "outputs": [
    {
     "name": "stdout",
     "output_type": "stream",
     "text": [
      "[ -1.60635394e-13   5.78287418e-14  -3.55604435e-13   5.66491298e-14\n",
      "  -3.90520949e-14   5.86544702e-14  -2.02199368e-13   1.66956726e-13\n",
      "  -1.69323756e-13  -1.50849385e-13]\n",
      "[[ 1.          0.1737371   0.18508467  0.33542671  0.26006082  0.21924314\n",
      "  -0.07518097  0.2038409   0.27077678  0.30173101]\n",
      " [ 0.1737371   1.          0.0881614   0.24101317  0.03527682  0.14263726\n",
      "  -0.37908963  0.33211509  0.14991756  0.20813322]\n",
      " [ 0.18508467  0.0881614   1.          0.39541532  0.24977742  0.26116991\n",
      "  -0.36681098  0.4138066   0.44615865  0.38867999]\n",
      " [ 0.33542671  0.24101317  0.39541532  1.          0.24246971  0.18555783\n",
      "  -0.17876121  0.25765337  0.39347814  0.39042938]\n",
      " [ 0.26006082  0.03527682  0.24977742  0.24246971  1.          0.89666296\n",
      "   0.05151936  0.54220728  0.51550076  0.32571675]\n",
      " [ 0.21924314  0.14263726  0.26116991  0.18555783  0.89666296  1.\n",
      "  -0.19645512  0.65981689  0.3183534   0.29060038]\n",
      " [-0.07518097 -0.37908963 -0.36681098 -0.17876121  0.05151936 -0.19645512\n",
      "   1.         -0.73849273 -0.398577   -0.2736973 ]\n",
      " [ 0.2038409   0.33211509  0.4138066   0.25765337  0.54220728  0.65981689\n",
      "  -0.73849273  1.          0.61785739  0.41721211]\n",
      " [ 0.27077678  0.14991756  0.44615865  0.39347814  0.51550076  0.3183534\n",
      "  -0.398577    0.61785739  1.          0.46467046]\n",
      " [ 0.30173101  0.20813322  0.38867999  0.39042938  0.32571675  0.29060038\n",
      "  -0.2736973   0.41721211  0.46467046  1.        ]]\n"
     ]
    }
   ],
   "source": [
    "print(diabetes_X.sum(axis = 0))\n",
    "print(np.dot(np.transpose(diabetes_X),diabetes_X))"
   ]
  },
  {
   "cell_type": "markdown",
   "metadata": {},
   "source": [
    "# To increase the level of difficulty, we add some (insignificant) Gaussian variable to the database"
   ]
  },
  {
   "cell_type": "code",
   "execution_count": 4,
   "metadata": {
    "collapsed": false
   },
   "outputs": [
    {
     "data": {
      "text/plain": [
       "(442, 110)"
      ]
     },
     "execution_count": 4,
     "metadata": {},
     "output_type": "execute_result"
    }
   ],
   "source": [
    "n = diabetes_X.shape[0]\n",
    "\n",
    "xadd = np.random.normal(0,1,[n,100])\n",
    "\n",
    "diabetes_X  = np.column_stack((diabetes_X,xadd))\n",
    "diabetes_X.shape"
   ]
  },
  {
   "cell_type": "markdown",
   "metadata": {},
   "source": [
    "# Now we split the sample in two parts: A training set and a test set "
   ]
  },
  {
   "cell_type": "code",
   "execution_count": 5,
   "metadata": {
    "collapsed": false
   },
   "outputs": [
    {
     "data": {
      "text/plain": [
       "((300, 110), (141, 110), (300,), (141,))"
      ]
     },
     "execution_count": 5,
     "metadata": {},
     "output_type": "execute_result"
    }
   ],
   "source": [
    "diabetes_X_learn = diabetes_X[:300]\n",
    "diabetes_y_learn = diabetes_y[:300]\n",
    "diabetes_X_test = diabetes_X[301:]\n",
    "diabetes_y_test = diabetes_y[301:]\n",
    "\n",
    "diabetes_X_learn.shape ,diabetes_X_test.shape , diabetes_y_learn.shape , diabetes_y_test.shape"
   ]
  },
  {
   "cell_type": "markdown",
   "metadata": {},
   "source": [
    "OLS with sk learn (we keep in R1 the prediction error computed on the test set)"
   ]
  },
  {
   "cell_type": "code",
   "execution_count": 8,
   "metadata": {
    "collapsed": false
   },
   "outputs": [
    {
     "name": "stdout",
     "output_type": "stream",
     "text": [
      "[  1.93210086e+00  -1.92742667e+02   6.29311232e+02   2.45838096e+02\n",
      "  -3.41114987e+02   5.90907047e+01  -5.71816648e+01   1.03335657e+02\n",
      "   5.70730646e+02   1.53717574e+02   1.96154739e+00  -5.58617278e+00\n",
      "  -5.14595479e+00   3.86793600e-01   1.40494464e+00  -2.12455323e+00\n",
      "  -4.63697055e+00  -9.12456753e-01  -9.88101494e+00   1.31788933e+00\n",
      "   4.78467079e-02  -2.28721562e+00  -6.63796964e+00   5.89563362e+00\n",
      "  -2.96803423e+00   3.62406120e+00  -2.17548203e+00  -2.05938472e+00\n",
      "   7.78946262e+00   2.98474698e-01   3.62036692e+00   2.86640091e-01\n",
      "  -9.36179668e-01   3.80417471e+00   1.97959439e+00   5.01534216e+00\n",
      "   9.87354883e-01  -3.10487933e+00  -8.70708185e+00   5.60106082e+00\n",
      "  -2.32184812e+00   8.45416200e+00  -4.97002236e+00  -6.12009698e-01\n",
      "  -2.80078335e+00  -6.33471534e-01   1.10435440e+00  -1.09171195e+00\n",
      "  -2.79041103e+00   1.48419036e+00  -3.86228798e+00  -5.12534875e-01\n",
      "   5.47950590e+00  -3.59580518e+00   1.28772889e+00   3.66810123e-01\n",
      "   2.36453223e-01  -5.99424521e-01  -3.18493926e+00  -2.61650623e+00\n",
      "   1.09156486e+00   1.96920717e+00  -6.16205668e+00   4.67575768e+00\n",
      "  -6.85775849e+00   4.36873766e+00  -7.01093824e-01   5.77951257e+00\n",
      "   1.52654217e+00  -4.81026571e+00   5.14243160e+00   7.95682169e-01\n",
      "   9.31358543e-01   4.85022660e+00  -3.43188517e+00   3.27697749e+00\n",
      "   8.07535488e-01  -5.30475542e+00   1.90017226e+00  -1.28438263e+00\n",
      "  -6.73914484e+00  -2.13339663e+00   1.08286053e+00  -1.57924148e+00\n",
      "   4.24800758e+00  -3.27048828e+00   2.98069020e+00   2.11946125e+00\n",
      "   5.07357319e+00  -4.35761669e-01   3.62910396e+00   1.08163163e+01\n",
      "  -2.56991717e+00   1.96937867e+00  -8.58947026e+00   2.83666637e+00\n",
      "   4.78986230e+00   2.30202219e+00   2.70610610e+00  -2.53894159e+00\n",
      "  -4.72559581e+00  -3.88677743e+00   4.30673111e+00   3.61555911e+00\n",
      "  -1.10606461e+00  -8.46991667e-01   1.85773467e+00   2.77071020e+00\n",
      "   1.76458539e-01  -5.27655178e+00]\n",
      "154.187896251\n"
     ]
    }
   ],
   "source": [
    "regr = linear_model.LinearRegression()\n",
    "regr.fit(diabetes_X_learn , diabetes_y_learn)\n",
    "\n",
    "print(regr.coef_)\n",
    "print(regr.intercept_)\n",
    "\n",
    "R1 = regr.predict(diabetes_X_test) - diabetes_y_test"
   ]
  },
  {
   "cell_type": "markdown",
   "metadata": {},
   "source": [
    "# A first graph to visualize the residuals"
   ]
  },
  {
   "cell_type": "code",
   "execution_count": 9,
   "metadata": {
    "collapsed": false
   },
   "outputs": [
    {
     "data": {
      "image/png": "[encoded data removed]",
      "text/plain": [
       "<matplotlib.figure.Figure at 0x10da87d30>"
      ]
     },
     "metadata": {},
     "output_type": "display_data"
    }
   ],
   "source": [
    "ypred_tmp = np.dot(diabetes_X_learn , regr.coef_ )\n",
    "ypred = ypred_tmp +  regr.intercept_ \n",
    "#ypred = regr.predict(diabetes_X)\n",
    "\n",
    "\n",
    "plt.figure() \n",
    "plt.plot(ypred_tmp , ypred)\n",
    "plt.scatter(ypred_tmp , diabetes_y_learn , s =3 )\n",
    "plt.title(\"y et y_pred vs xbeta\")\n",
    "plt.show()\n"
   ]
  },
  {
   "cell_type": "markdown",
   "metadata": {},
   "source": [
    "# Forward variable selection"
   ]
  },
  {
   "cell_type": "code",
   "execution_count": 10,
   "metadata": {
    "collapsed": false
   },
   "outputs": [],
   "source": [
    "diabetes_X_aug = np.column_stack( (np.ones( (diabetes_X_learn.shape[0], 1 )), diabetes_X_learn )) \n",
    "\n",
    "p = diabetes_X_aug.shape[1]\n",
    "n = diabetes_X_aug.shape[0]\n",
    "\n",
    "test = np.zeros((p,p))\n",
    "pval_mem = np.zeros(p)\n",
    "pval = np.zeros((p,p))\n",
    "resids = diabetes_y_learn\n",
    "\n",
    "var_sel = []\n",
    "var_remain = list(range(p))\n",
    "in_test = []\n",
    "\n",
    "\n",
    "regr = linear_model.LinearRegression(fit_intercept = False)\n",
    "\n",
    "\n",
    "for k in range(p): \n",
    "    resids_mem = np.zeros((p,n))\n",
    "\n",
    "    for i in var_remain:\n",
    "        xtmp = diabetes_X_aug [:,[i]]\n",
    "        regr.fit(xtmp , resids)\n",
    "        \n",
    "        #calcul de (x'x)\n",
    "        xx = np.sum( diabetes_X_aug [:,[i]] ** 2 )    \n",
    "        resids_mem [i,:] = regr.predict(xtmp) - resids\n",
    "        sigma2_tmp = np.sum (resids_mem [i,:] ** 2) / xx\n",
    "        test[k,i] = np.sqrt(n) * np.abs(regr.coef_) / (np.sqrt( sigma2_tmp )) \n",
    "        pval[k,i] =   2 * (1 - norm.cdf(test[k,i]))\n",
    "\n",
    "    ####separe en deux vecteurs la listes des variables séléctionnées et les autres\n",
    "    best_var = np.argmax(test[k,:])\n",
    "    var_sel.append(best_var)\n",
    "    resids = resids_mem[best_var,:]\n",
    "    pval_mem [k] = pval[k,best_var]\n",
    "    var_remain = np.setdiff1d(var_remain,var_sel)\n",
    "\n"
   ]
  },
  {
   "cell_type": "markdown",
   "metadata": {},
   "source": [
    "Let us plot the value of the test statistic for the 3 first steps"
   ]
  },
  {
   "cell_type": "code",
   "execution_count": 12,
   "metadata": {
    "collapsed": false
   },
   "outputs": [
    {
     "data": {
      "image/png": "[encoded data removed]",
      "text/plain": [
       "<matplotlib.figure.Figure at 0x10d84aa58>"
      ]
     },
     "metadata": {},
     "output_type": "display_data"
    }
   ],
   "source": [
    "def foo(s1):\n",
    "    return \"step %s\" % s1\n",
    "\n",
    "fig = plt.figure()\n",
    "for k in range(3): \n",
    "    lab_tmp = foo(k)\n",
    "    plt.plot(np.arange(p),test[k,:], '-o',label = lab_tmp)\n",
    "    plt.axis(xmin = -.5,xmax = 20,ymin = -1)\n",
    "plt.legend(loc=1)\n",
    "plt.title(\"values of the t-stat at each steps\")\n",
    "plt.xlabel(\"features\")\n",
    "plt.show()"
   ]
  },
  {
   "cell_type": "markdown",
   "metadata": {
    "collapsed": false
   },
   "source": [
    "At each step one may look at the pvalue associated to the selected variable "
   ]
  },
  {
   "cell_type": "code",
   "execution_count": 19,
   "metadata": {
    "collapsed": false
   },
   "outputs": [
    {
     "data": {
      "image/png": "[encoded data removed]",
      "text/plain": [
       "<matplotlib.figure.Figure at 0x1130a3320>"
      ]
     },
     "metadata": {},
     "output_type": "display_data"
    }
   ],
   "source": [
    "fig2 = plt.figure() \n",
    "for k in range(3): \n",
    "    plt.plot(np.arange(p),pval_mem, 'o')\n",
    "    plt.plot([-0.5,50],[.1,.1],color = \"blue\" )\n",
    "    plt.axis(xmin = -.5,xmax = 50,ymin = -.03)\n",
    "plt.title(\"plot of the pvalues\")\n",
    "plt.xlabel(\"steps\")\n",
    "plt.show()"
   ]
  },
  {
   "cell_type": "markdown",
   "metadata": {
    "collapsed": false
   },
   "source": [
    "# We obtained the following selected variables"
   ]
  },
  {
   "cell_type": "code",
   "execution_count": 13,
   "metadata": {
    "collapsed": false
   },
   "outputs": [
    {
     "name": "stdout",
     "output_type": "stream",
     "text": [
      "variables sélectionnées (dans l'ordre):  [ 0  3  9  5 12 95 42 92  4 19 39 29 87  2 89 64 63 81 65]\n"
     ]
    }
   ],
   "source": [
    "print(\"variables sélectionnées (dans l'ordre): \" , \n",
    "      np.array(var_sel)[pval_mem<.1])"
   ]
  },
  {
   "cell_type": "markdown",
   "metadata": {
    "collapsed": false
   },
   "source": [
    "# Now we can run OLS with the selected variables"
   ]
  },
  {
   "cell_type": "code",
   "execution_count": 17,
   "metadata": {
    "collapsed": false
   },
   "outputs": [
    {
     "name": "stdout",
     "output_type": "stream",
     "text": [
      "[  3.06400628e+02   2.59210480e+02  -3.18443142e+02  -9.75113386e-01\n",
      "   1.84508380e+00  -4.13195118e+00  -4.88173326e+00   2.07803221e+02\n",
      "  -1.14000727e+00   5.17959324e+00   3.30770227e+00  -1.78474246e+00\n",
      "   7.90020547e+02   2.59178254e+00  -6.14400623e+00   5.66162700e+00\n",
      "   1.69719678e-01   4.10687393e+00]\n",
      "151.867906545\n"
     ]
    }
   ],
   "source": [
    "sel = np.array(var_sel)[pval_mem<.1]\n",
    "k = np.count_nonzero(sel)\n",
    "sel = sel[1:]\n",
    "X_learn_forward = diabetes_X_learn[:,sel]\n",
    "\n",
    "regr = linear_model.LinearRegression()\n",
    "regr.fit(X_learn_forward , diabetes_y_learn)\n",
    "\n",
    "print(regr.coef_)\n",
    "print(regr.intercept_)\n",
    "\n",
    "R2 = regr.predict(  diabetes_X_test[:,sel] )  - diabetes_y_test"
   ]
  },
  {
   "cell_type": "markdown",
   "metadata": {},
   "source": [
    "# Finally, we compare OLS and OLS with forward variable selection according the prediction risk computed on the test set"
   ]
  },
  {
   "cell_type": "code",
   "execution_count": 16,
   "metadata": {
    "collapsed": false
   },
   "outputs": [
    {
     "data": {
      "text/plain": [
       "(604906.93348506, 491383.52110588393)"
      ]
     },
     "execution_count": 16,
     "metadata": {},
     "output_type": "execute_result"
    }
   ],
   "source": [
    "sum(R1 ** 2 )  , sum ( R2** 2 )"
   ]
  }
 ],
 "metadata": {
  "anaconda-cloud": {},
  "kernelspec": {
   "display_name": "Python [Root]",
   "language": "python",
   "name": "Python [Root]"
  },
  "language_info": {
   "codemirror_mode": {
    "name": "ipython",
    "version": 3
   },
   "file_extension": ".py",
   "mimetype": "text/x-python",
   "name": "python",
   "nbconvert_exporter": "python",
   "pygments_lexer": "ipython3",
   "version": "3.5.2"
  }
 },
 "nbformat": 4,
 "nbformat_minor": 0
}
