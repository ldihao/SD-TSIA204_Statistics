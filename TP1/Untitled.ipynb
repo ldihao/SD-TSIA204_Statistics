{
 "cells": [
  {
   "cell_type": "code",
   "execution_count": 2,
   "metadata": {},
   "outputs": [],
   "source": [
    "from mpl_toolkits.mplot3d import Axes3D\n",
    "import matplotlib.pyplot as plt\n",
    "from matplotlib import cm\n",
    "from matplotlib.ticker import LinearLocator, FormatStrFormatter\n",
    "import numpy as np\n",
    "\n",
    "X = np.arange(-5, 5, 0.25)\n",
    "Y = np.arange(-5, 5, 0.25)\n",
    "X, Y = np.meshgrid(X, Y)\n",
    "R = np.sqrt(X**2 + Y**2)\n",
    "Z = np.sin(R)"
   ]
  },
  {
   "cell_type": "code",
   "execution_count": 3,
   "metadata": {},
   "outputs": [
    {
     "data": {
      "text/plain": [
       "array([[-5.  , -4.75, -4.5 , ...,  4.25,  4.5 ,  4.75],\n",
       "       [-5.  , -4.75, -4.5 , ...,  4.25,  4.5 ,  4.75],\n",
       "       [-5.  , -4.75, -4.5 , ...,  4.25,  4.5 ,  4.75],\n",
       "       ...,\n",
       "       [-5.  , -4.75, -4.5 , ...,  4.25,  4.5 ,  4.75],\n",
       "       [-5.  , -4.75, -4.5 , ...,  4.25,  4.5 ,  4.75],\n",
       "       [-5.  , -4.75, -4.5 , ...,  4.25,  4.5 ,  4.75]])"
      ]
     },
     "execution_count": 3,
     "metadata": {},
     "output_type": "execute_result"
    }
   ],
   "source": [
    "X"
   ]
  },
  {
   "cell_type": "code",
   "execution_count": 7,
   "metadata": {},
   "outputs": [
    {
     "data": {
      "text/plain": [
       "array([[-5.  , -5.  , -5.  , ..., -5.  , -5.  , -5.  ],\n",
       "       [-4.75, -4.75, -4.75, ..., -4.75, -4.75, -4.75],\n",
       "       [-4.5 , -4.5 , -4.5 , ..., -4.5 , -4.5 , -4.5 ],\n",
       "       ...,\n",
       "       [ 4.25,  4.25,  4.25, ...,  4.25,  4.25,  4.25],\n",
       "       [ 4.5 ,  4.5 ,  4.5 , ...,  4.5 ,  4.5 ,  4.5 ],\n",
       "       [ 4.75,  4.75,  4.75, ...,  4.75,  4.75,  4.75]])"
      ]
     },
     "execution_count": 7,
     "metadata": {},
     "output_type": "execute_result"
    }
   ],
   "source": [
    "Y"
   ]
  },
  {
   "cell_type": "code",
   "execution_count": 6,
   "metadata": {},
   "outputs": [
    {
     "data": {
      "text/plain": [
       "array([[ 0.70886129,  0.57562789,  0.42921793, ...,  0.27541086,\n",
       "         0.42921793,  0.57562789],\n",
       "       [ 0.57562789,  0.4208019 ,  0.2570234 , ...,  0.09046523,\n",
       "         0.2570234 ,  0.4208019 ],\n",
       "       [ 0.42921793,  0.2570234 ,  0.08068791, ..., -0.09334004,\n",
       "         0.08068791,  0.2570234 ],\n",
       "       ...,\n",
       "       [ 0.27541086,  0.09046523, -0.09334004, ..., -0.26940744,\n",
       "        -0.09334004,  0.09046523],\n",
       "       [ 0.42921793,  0.2570234 ,  0.08068791, ..., -0.09334004,\n",
       "         0.08068791,  0.2570234 ],\n",
       "       [ 0.57562789,  0.4208019 ,  0.2570234 , ...,  0.09046523,\n",
       "         0.2570234 ,  0.4208019 ]])"
      ]
     },
     "execution_count": 6,
     "metadata": {},
     "output_type": "execute_result"
    }
   ],
   "source": [
    "Z"
   ]
  },
  {
   "cell_type": "code",
   "execution_count": null,
   "metadata": {},
   "outputs": [],
   "source": []
  }
 ],
 "metadata": {
  "kernelspec": {
   "display_name": "Python 3",
   "language": "python",
   "name": "python3"
  }
 },
 "nbformat": 4,
 "nbformat_minor": 2
}
