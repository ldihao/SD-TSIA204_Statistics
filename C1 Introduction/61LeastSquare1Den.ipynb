{
 "cells": [
  {
   "cell_type": "markdown",
   "metadata": {},
   "source": [
    "# SD-TSIA204 : Linear Models\n",
    "## IntroStatisics: 1D case\n",
    "### *Joseph Salmon*\n",
    "\n",
    "This notebook reproduces the pictures for the course \"LeastSquare_1D_fr\""
   ]
  },
  {
   "cell_type": "code",
   "execution_count": null,
   "metadata": {
    "collapsed": false
   },
   "outputs": [],
   "source": [
    "import numpy as np\n",
    "import pandas as pd\n",
    "import statsmodels.api as sm\n",
    "import matplotlib.pyplot as plt\n",
    "from matplotlib import rc\n",
    "from sklearn import linear_model\n",
    "import seaborn as sns\n",
    "from os import mkdir, path\n",
    "from sklearn import preprocessing\n",
    "from random import shuffle, seed\n",
    "import matplotlib.animation as animation\n",
    "%matplotlib inline\n",
    "from IPython.display import HTML"
   ]
  },
  {
   "cell_type": "markdown",
   "metadata": {},
   "source": [
    "# Plot initialization\n"
   ]
  },
  {
   "cell_type": "code",
   "execution_count": null,
   "metadata": {
    "collapsed": true
   },
   "outputs": [],
   "source": [
    "dirname = \"../srcimages/\"\n",
    "if not path.exists(dirname):\n",
    "    mkdir(dirname)\n",
    "\n",
    "imageformat = '.pdf'\n",
    "rc('font', **{'family': 'sans-serif', 'sans-serif': ['Computer Modern Roman']})\n",
    "params = {'axes.labelsize': 12,\n",
    "          'font.size': 12,\n",
    "          'legend.fontsize': 12,\n",
    "          'xtick.labelsize': 10,\n",
    "          'ytick.labelsize': 10,\n",
    "          'text.usetex': True,\n",
    "          'figure.figsize': (8, 6)}\n",
    "plt.rcParams.update(params)\n",
    "\n",
    "sns.set_context(\"poster\")\n",
    "sns.set_palette(\"colorblind\")\n",
    "sns.axes_style()\n",
    "sns.set_style({'legend.frameon': True})\n",
    "color_blind_list = sns.color_palette(\"colorblind\", 8)\n",
    "my_orange = color_blind_list[2]\n",
    "my_green = color_blind_list[1]\n",
    "my_blue = color_blind_list[0]\n",
    "\n",
    "plt.close(\"all\")"
   ]
  },
  {
   "cell_type": "markdown",
   "metadata": {},
   "source": [
    "# Saving display function"
   ]
  },
  {
   "cell_type": "code",
   "execution_count": null,
   "metadata": {
    "collapsed": true
   },
   "outputs": [],
   "source": [
    "saving = False\n",
    "\n",
    "\n",
    "def my_saving_display(fig, dirname, filename, imageformat):\n",
    "    \"\"\"\"Saving with personal function.\"\"\"\n",
    "    filename = filename.replace('.', 'pt')  # remove \".\" to avoid floats issues\n",
    "    if saving is True:\n",
    "        dirname + filename + imageformat\n",
    "        image_name = dirname + filename + imageformat\n",
    "        fig.savefig(image_name)"
   ]
  },
  {
   "cell_type": "markdown",
   "metadata": {},
   "source": [
    "# Load data"
   ]
  },
  {
   "cell_type": "code",
   "execution_count": null,
   "metadata": {
    "collapsed": false
   },
   "outputs": [],
   "source": [
    "# Original url:\n",
    "# url = 'https://forge.scilab.org/index.php/p/rdataset/source/file/master/csv/datasets/cars.csv'\n",
    "# Alternative url:\n",
    "url = 'http://josephsalmon.eu/enseignement/TELECOM/MDI720/datasets/cars.csv'\n",
    "dat = pd.read_csv(url)\n",
    "\n",
    "print(dat.describe())\n",
    "\n",
    "y = dat['dist']\n",
    "X = dat[['speed']]  # Beware dat['speed'].shape = (50,), issue with sklearn API\n",
    "n_sample, _ = X.shape\n"
   ]
  },
  {
   "cell_type": "markdown",
   "metadata": {},
   "source": [
    "# Data only"
   ]
  },
  {
   "cell_type": "code",
   "execution_count": null,
   "metadata": {
    "collapsed": false
   },
   "outputs": [],
   "source": [
    "xlabels = 'Speed'\n",
    "ylabels = 'Distance'\n",
    "\n",
    "fig1 = plt.figure(figsize=(8, 6))\n",
    "plt.xlabel(xlabels)\n",
    "plt.ylabel(ylabels)\n",
    "plt.title('Raw data')\n",
    "plt.plot(X, y, 'o', label=\"Data\", markeredgecolor='k', markeredgewidth=1)\n",
    "axes = plt.gca()\n",
    "plt.xlim(xmin=0, xmax=30)\n",
    "plt.ylim(ymin=-30, ymax=140)\n",
    "\n",
    "plt.legend(numpoints=1, loc=2)  # numpoints = 1 for nicer display\n",
    "plt.tight_layout()\n",
    "plt.show()\n",
    "\n",
    "my_saving_display(fig1, dirname, \"cars_data_plot\", imageformat)"
   ]
  },
  {
   "cell_type": "markdown",
   "metadata": {},
   "source": [
    "# Data and OLS estimator"
   ]
  },
  {
   "cell_type": "code",
   "execution_count": null,
   "metadata": {
    "collapsed": false
   },
   "outputs": [],
   "source": [
    "# Fit regression model (with statsmodels)\n",
    "sm_linmod = sm.OLS(y, X).fit()\n",
    "\n",
    "# Fit regression model (with sklearn)\n",
    "skl_linmod = linear_model.LinearRegression()\n",
    "skl_linmod.fit(X, y)\n",
    "\n",
    "# Fit regression model without intercept (with sklearn)\n",
    "skl_linmod_no_inter = linear_model.LinearRegression(fit_intercept=False)\n",
    "skl_linmod_no_inter.fit(X, y)\n",
    "\n",
    "fig = plt.figure(figsize=(8, 6))\n",
    "plt.xlim(xmin=0, xmax=30)\n",
    "plt.ylim(ymin=-30, ymax=140)\n",
    "plt.plot(X, y, 'o', label=\"Data\", markeredgecolor='k', markeredgewidth=1)\n",
    "X_to_predict = np.linspace(0.0, 30.0, num=50).reshape(50, 1)\n",
    "X_to_predict = pd.DataFrame(X_to_predict, columns=['speed'])\n",
    "\n",
    "plt.plot(X_to_predict, skl_linmod_no_inter.predict(X_to_predict),\n",
    "         linewidth=3, label=\"OLS-sklearn-no-intercept\")\n",
    "plt.legend(numpoints=1, loc=2)  # numpoints = 1 for nicer display\n",
    "plt.xlabel(xlabels), plt.ylabel(ylabels)\n",
    "plt.title('Raw data and fitted')\n",
    "plt.tight_layout()\n",
    "plt.show()\n",
    "\n",
    "my_saving_display(fig, dirname, \"cars_data_plot_regression_no_inter\",\n",
    "                  imageformat)"
   ]
  },
  {
   "cell_type": "markdown",
   "metadata": {},
   "source": [
    "# Residuals"
   ]
  },
  {
   "cell_type": "code",
   "execution_count": null,
   "metadata": {
    "collapsed": false
   },
   "outputs": [],
   "source": [
    "residual = y - skl_linmod.predict(X)\n",
    "\n",
    "fig = plt.figure(figsize=(8, 6))\n",
    "plt.xlim(xmin=0, xmax=30)\n",
    "plt.ylim(ymin=-50, ymax=50)\n",
    "plt.xlabel(xlabels)\n",
    "plt.ylabel(ylabels)\n",
    "\n",
    "legend_names = ['positive', 'negative']\n",
    "plots = []\n",
    "proxies = []\n",
    "\n",
    "# Positive residuals\n",
    "positive_res = residual > 0\n",
    "markerline, stemlines, baseline = plt.stem(X[positive_res],\n",
    "                                           residual[positive_res])\n",
    "plots.append((markerline, stemlines, baseline))\n",
    "plt.setp(stemlines, linewidth=2, color=my_green)   # set stems colors\n",
    "plt.setp(markerline, 'markerfacecolor', my_green, markeredgecolor='k',\n",
    "         markeredgewidth=1)    # make points green\n",
    "h, = plt.plot(1, 1, color=my_green)\n",
    "proxies.append(h)\n",
    "plt.legend(proxies, legend_names, numpoints=1, loc=2)\n",
    "\n",
    "# Negative residuals\n",
    "negative_res = residual <= 0\n",
    "markerline, stemlines, baseline = plt.stem(X[negative_res],\n",
    "                                           residual[negative_res])\n",
    "plots.append((markerline, stemlines, baseline))\n",
    "plt.setp(stemlines, linewidth=2, color=my_orange)   # set stems colors\n",
    "plt.setp(markerline, 'markerfacecolor', my_orange, markeredgecolor='k',\n",
    "         markeredgewidth=1)    # make points orange\n",
    "\n",
    "h, = plt.plot(1, 1, color=my_orange)\n",
    "proxies.append(h)\n",
    "plt.legend(proxies, legend_names, numpoints=1, loc=2)\n",
    "\n",
    "plt.title('Residuals')\n",
    "plt.axhline(y=0, ls='-', color='k')\n",
    "plt.tight_layout()\n",
    "plt.show()\n",
    "\n",
    "my_saving_display(fig, dirname, \"cars_data_plot_regression_residual\",\n",
    "                  imageformat)"
   ]
  },
  {
   "cell_type": "markdown",
   "metadata": {},
   "source": [
    "# Histogram residuals\n"
   ]
  },
  {
   "cell_type": "code",
   "execution_count": null,
   "metadata": {
    "collapsed": false
   },
   "outputs": [],
   "source": [
    "fig = plt.figure(figsize=(8, 6))\n",
    "plt.hist(residual, bins=10, normed=True, align='mid')\n",
    "sns.kdeplot(residual)\n",
    "plt.title('Residual Histogram/ KDE')\n",
    "ax = plt.gca()\n",
    "ax.legend_ = None\n",
    "plt.xlabel('Residual value'), plt.ylabel('Frequency')\n",
    "plt.tight_layout()\n",
    "plt.show()\n",
    "\n",
    "my_saving_display(fig, dirname, \"cars_residual_hist\", imageformat)"
   ]
  },
  {
   "cell_type": "markdown",
   "metadata": {},
   "source": [
    "# OLS with intercept\n"
   ]
  },
  {
   "cell_type": "code",
   "execution_count": null,
   "metadata": {
    "collapsed": false
   },
   "outputs": [],
   "source": [
    "X_with_cst = sm.add_constant(X)\n",
    "sm_linmod = sm.OLS(y, X_with_cst).fit()\n",
    "\n",
    "fig = plt.figure(figsize=(8, 6))\n",
    "plt.xlim(xmin=0, xmax=30)\n",
    "plt.ylim(ymin=-30, ymax=140)\n",
    "\n",
    "X_to_predict_with_cst = sm.add_constant(X_to_predict)\n",
    "\n",
    "\n",
    "plt.plot(X, y, 'o', label=\"Data\", markeredgecolor='k', markeredgewidth=1)\n",
    "plt.plot(X_to_predict, skl_linmod.predict(X_to_predict), linewidth=3,\n",
    "         label=\"OLS-sklearn-w-intercept\")\n",
    "plt.plot(X_to_predict, sm_linmod.predict(X_to_predict_with_cst), '*',\n",
    "         linewidth=3, label=\"OLS-sm-w-intercept\")\n",
    "plt.legend(numpoints=1, loc=2)  # numpoints = 1 for nicer legend\n",
    "plt.xlabel(xlabels), plt.ylabel(ylabels)\n",
    "plt.title('Raw data and fitted')\n",
    "plt.tight_layout()\n",
    "plt.show()\n",
    "\n",
    "my_saving_display(fig, dirname, \"cars_data_plot_regression\",\n",
    "                  imageformat)"
   ]
  },
  {
   "cell_type": "markdown",
   "metadata": {},
   "source": [
    "# Second order with intercept = FALSE: physics tell you it is zero !\n"
   ]
  },
  {
   "cell_type": "code",
   "execution_count": null,
   "metadata": {
    "collapsed": false
   },
   "outputs": [],
   "source": [
    "X_new = np.reshape(X['speed'].values ** 2, (-1, 1))\n",
    "skl_linmod_quad = linear_model.LinearRegression(fit_intercept=False)\n",
    "skl_linmod_quad.fit(X_new, y)\n",
    "\n",
    "fig = plt.figure(figsize=(8, 6))\n",
    "plt.xlim(xmin=0, xmax=30)\n",
    "plt.ylim(ymin=-30, ymax=140)\n",
    "\n",
    "plt.plot(X, y, 'o', label=\"Data\", markeredgecolor='k', markeredgewidth=1)\n",
    "plt.plot(X_to_predict, skl_linmod_quad.predict(X_to_predict ** 2))\n",
    "plt.xlabel(xlabels), plt.ylabel(ylabels)\n",
    "plt.title('Raw data')\n",
    "plt.tight_layout()\n",
    "plt.show()\n",
    "\n",
    "my_saving_display(fig, dirname, \"cars_data_plot_quad\", imageformat)"
   ]
  },
  {
   "cell_type": "markdown",
   "metadata": {},
   "source": [
    "# Histogram residuals"
   ]
  },
  {
   "cell_type": "code",
   "execution_count": null,
   "metadata": {
    "collapsed": false
   },
   "outputs": [],
   "source": [
    "residual_quad = y - skl_linmod_quad.predict(X_new)\n",
    "\n",
    "fig = plt.figure(figsize=(8, 6))\n",
    "plt.hist(residual_quad, bins=10, normed=True, align='mid')\n",
    "sns.kdeplot(residual_quad)\n",
    "plt.title('Residual Histogram/ KDE')\n",
    "ax = plt.gca()\n",
    "ax.legend_ = None\n",
    "plt.xlabel('Residual value'), plt.ylabel('Frequency')\n",
    "plt.tight_layout()\n",
    "plt.show()\n",
    "my_saving_display(fig, dirname, \"cars_quad_residual_hist\", imageformat)\n"
   ]
  },
  {
   "cell_type": "code",
   "execution_count": null,
   "metadata": {
    "collapsed": false
   },
   "outputs": [],
   "source": [
    "# With intercept and center of mass displayed\n",
    "\n",
    "fig = plt.figure(figsize=(8, 6))\n",
    "plt.xlim(xmin=0, xmax=30)\n",
    "plt.ylim(ymin=-30, ymax=140)\n",
    "\n",
    "plt.plot(X, y, 'o', label=\"Data\", markeredgecolor='k', markeredgewidth=1)\n",
    "plt.plot(X_to_predict, skl_linmod.predict(X_to_predict),\n",
    "         color=my_orange, linewidth=3, label=\"OLS-with-inter\")\n",
    "plt.plot(np.mean(X), np.mean(y), 'or', markeredgewidth=10,\n",
    "         markeredgecolor=my_orange)\n",
    "plt.plot([np.mean(X), np.mean(X)], [-30, np.mean(y)],\n",
    "         color=my_orange, linewidth=1.5, linestyle=\"--\")\n",
    "plt.plot([0, np.mean(X)], [np.mean(y), np.mean(y)], color=my_orange,\n",
    "         linewidth=1.5, linestyle=\"--\")\n",
    "plt.legend(numpoints=1, loc=2)  # numpoints = 1 for nicer display\n",
    "plt.xlabel(xlabels), plt.ylabel(ylabels)\n",
    "plt.title('Raw data fitted with intercept and center of mass')\n",
    "plt.tight_layout()\n",
    "plt.show()\n",
    "\n",
    "my_saving_display(fig, dirname,\n",
    "                  \"cars_data_plot_regression_intercept_gravity\", imageformat)"
   ]
  },
  {
   "cell_type": "markdown",
   "metadata": {},
   "source": [
    "# With intercept and center of mass displayed + recentering"
   ]
  },
  {
   "cell_type": "code",
   "execution_count": null,
   "metadata": {
    "collapsed": false
   },
   "outputs": [],
   "source": [
    "Xprime = X - np.mean(X)\n",
    "yprime = y - np.mean(y)\n",
    "fig = plt.figure(figsize=(8, 6))\n",
    "plt.xlim(xmin=-15, xmax=15)\n",
    "plt.ylim(ymin=-85, ymax=85)\n",
    "plt.plot(X - np.mean(X), y - np.mean(y), 'o', label=\"Data\",\n",
    "         markeredgecolor='k', markeredgewidth=1)\n",
    "skl_linmod.fit(Xprime, yprime)\n",
    "skl_linmod.predict(X_to_predict)\n",
    "plt.plot(X_to_predict - 15, skl_linmod.predict(X_to_predict - 15),\n",
    "         color=my_orange, linewidth=3, label=\"OLS\")\n",
    "plt.plot(0, 0, 'or', markeredgewidth=10, markeredgecolor=my_orange)\n",
    "plt.plot([0, 0], [-85, 0], color=my_orange, linewidth=1.5,\n",
    "         linestyle=\"--\")\n",
    "plt.plot([-15, 0], [0, 0], color=my_orange, linewidth=1.5,\n",
    "         linestyle=\"--\")\n",
    "plt.legend(numpoints=1, loc=2)  # numpoints = 1 for nicer display\n",
    "xlabels = 'Recentered speed'\n",
    "ylabels = 'Recentered distance'\n",
    "plt.xlabel(xlabels), plt.ylabel(ylabels)\n",
    "plt.title('Raw data recentered to center of mass')\n",
    "plt.show()"
   ]
  },
  {
   "cell_type": "markdown",
   "metadata": {},
   "source": [
    "# Recentered to center of mass + slopes"
   ]
  },
  {
   "cell_type": "code",
   "execution_count": null,
   "metadata": {
    "collapsed": false
   },
   "outputs": [],
   "source": [
    "\n",
    "fig = plt.figure(figsize=(8, 6))\n",
    "plt.xlim(xmin=-15, xmax=15)\n",
    "plt.ylim(ymin=-85, ymax=85)\n",
    "plt.plot(0, 0, 'or', markeredgewidth=10, markeredgecolor=my_orange)\n",
    "xlabels = 'Recentered speed'\n",
    "ylabels = 'Recentered distance'\n",
    "plt.xlabel(xlabels), plt.ylabel(ylabels)\n",
    "plt.title('Average of slopes: weight by importance')\n",
    "\n",
    "for i in range(n_sample):\n",
    "    plt.plot([Xprime.loc[i, 'speed'], 0], [yprime.loc[i], 0], color=my_orange,\n",
    "             linewidth=(Xprime.loc[i, 'speed']) ** 2 / 20.,\n",
    "             linestyle=\"-\")\n",
    "    plt.pause(0.1)\n",
    "    plt.plot(Xprime.loc[i, 'speed'], yprime.loc[i], 'o',\n",
    "             markeredgecolor='k', markeredgewidth=1, color=my_blue,\n",
    "             markersize=(Xprime.loc[i, 'speed']) ** 2 / 10.)\n",
    "plt.show()\n",
    "\n",
    "my_saving_display(fig, dirname,\n",
    "                  \"cars_data_plot_regression_gravity_weights\", imageformat)"
   ]
  },
  {
   "cell_type": "code",
   "execution_count": null,
   "metadata": {
    "collapsed": false
   },
   "outputs": [],
   "source": [
    "fig = plt.figure(figsize=(8, 6))\n",
    "plt.xlim(xmin=-15, xmax=15)\n",
    "plt.ylim(ymin=-85, ymax=85)\n",
    "plt.plot(X_to_predict - 15, skl_linmod.predict(X_to_predict - 15),\n",
    "         color=my_orange, linewidth=5, label=\"OLS\")\n",
    "plt.plot(0, 0, 'or', markeredgewidth=10, markeredgecolor=my_orange)\n",
    "for i in range(n_sample):\n",
    "    plt.plot([Xprime.loc[i, 'speed'], 0], [yprime.loc[i], 0], color=my_orange,\n",
    "             linewidth=(Xprime.loc[i, 'speed']) ** 2 / 20.,\n",
    "             linestyle=\"-\")\n",
    "    # plt.pause(0.01)\n",
    "    plt.plot(Xprime.loc[i, 'speed'], yprime.loc[i], 'o',\n",
    "             markeredgecolor='k', markeredgewidth=1, color=my_blue,\n",
    "             markersize=(Xprime.loc[i, 'speed']) ** 2 / 10.)\n",
    "\n",
    "xlabels = 'Recentered speed'\n",
    "ylabels = 'Recentered distance'\n",
    "plt.xlabel(xlabels), plt.ylabel(ylabels)\n",
    "plt.title('Average of slopes: weight by importance')\n",
    "plt.show()\n",
    "\n",
    "my_saving_display(fig, dirname,\n",
    "                  \"cars_data_plot_regression_gravity_weights_OLS\", imageformat)"
   ]
  },
  {
   "cell_type": "markdown",
   "metadata": {},
   "source": [
    "# Start Movie"
   ]
  },
  {
   "cell_type": "code",
   "execution_count": null,
   "metadata": {
    "collapsed": false
   },
   "outputs": [],
   "source": [
    "seed(1)\n",
    "rnd_index = list(range(n_sample))\n",
    "shuffle(rnd_index)\n",
    "\n",
    "fig, ax = plt.subplots(figsize=(8, 6))\n",
    "\n",
    "plt.plot(0, 0, 'or', markeredgewidth=10, markeredgecolor=my_orange)\n",
    "xlabels = 'Recentered speed'\n",
    "ylabels = 'Recentered distance'\n",
    "plt.xlabel(xlabels), plt.ylabel(ylabels)\n",
    "plt.title('Least-squares with sample size ' + '$ n=$' + str(i + 1))\n",
    "plt.show()\n",
    "\n",
    "# Line and points creation\n",
    "line, = ax.plot([],[], color=my_orange, linewidth=5, label=\"OLS\")\n",
    "point, = ax.plot([], [], 'o', label=\"Data\", markeredgecolor='k',\n",
    "             markeredgewidth=1, color=my_blue)\n",
    "\n",
    "# Windows size\n",
    "ax.set_xlim([-15, 15])\n",
    "ax.set_ylim([-85, 85])\n",
    "\n",
    "# Create function for each frame\n",
    "def animate(i):\n",
    "    y_small = yprime[rnd_index[0:i + 1]]\n",
    "    X_small = Xprime.iloc[rnd_index[0:i + 1]]\n",
    "    skl_linmod.fit(X_small, y_small)\n",
    "    line.set_data(X_to_predict - 15, skl_linmod.predict(X_to_predict - 15))\n",
    "    point.set_data(X_small, y_small)\n",
    "    ax.set_title('Least-squares with sample size ' + '$ n=$' + str(i + 1))\n",
    "    return line, point\n",
    "\n",
    "# Save animation in ani\n",
    "ani = animation.FuncAnimation(fig=fig, func=animate, frames=50, interval=100, blit=True)\n",
    "plt.show()"
   ]
  },
  {
   "cell_type": "code",
   "execution_count": null,
   "metadata": {
    "collapsed": false
   },
   "outputs": [],
   "source": [
    "HTML(ani.to_html5_video())  # Need ffmpeg installed on your machine"
   ]
  },
  {
   "cell_type": "markdown",
   "metadata": {
    "collapsed": false
   },
   "source": [
    "# Check the influence of the extreme points (to compare with 3.93)"
   ]
  },
  {
   "cell_type": "code",
   "execution_count": null,
   "metadata": {
    "collapsed": false
   },
   "outputs": [],
   "source": [
    "print(\"Slopes estimates:\")\n",
    "print(\"index\", 'speed^2', 'speed', 'time', 'leverage' )\n",
    "\n",
    "for i in range(len(y)):\n",
    "    if (Xprime.loc[i, 'speed']) ** 2 > 50:\n",
    "        print(i, (Xprime.loc[i, 'speed']) ** 2, Xprime.loc[i, 'speed'], yprime.loc[i],\n",
    "              yprime.loc[i] / Xprime.loc[i, 'speed'])\n",
    "        print(\"\\t\")"
   ]
  },
  {
   "cell_type": "markdown",
   "metadata": {},
   "source": [
    "# With intercept and center of mass + recentering + rescaling"
   ]
  },
  {
   "cell_type": "code",
   "execution_count": null,
   "metadata": {
    "collapsed": false
   },
   "outputs": [],
   "source": [
    "stdX = np.std(X)\n",
    "stdY = np.std(y)\n",
    "\n",
    "Z = (X - np.mean(X)) / stdX\n",
    "yy = (y - np.mean(y)) / stdY\n",
    "Z_to_predict = (X_to_predict - np.mean(X)) / stdX\n",
    "\n",
    "skl_linmod_new = linear_model.LinearRegression(fit_intercept=False)\n",
    "skl_linmod_new.fit(Z, yy)\n",
    "\n",
    "fig = plt.figure(figsize=(8, 6))\n",
    "plt.ylim(-3, 3.5)\n",
    "plt.xlim(-2.5, 2)\n",
    "plt.plot(Z, yy, 'o', label=\"Data\", markeredgecolor='k', markeredgewidth=1)\n",
    "plt.plot(Z_to_predict, skl_linmod_new.predict(Z_to_predict),\n",
    "         color=my_orange, linewidth=3, label=\"OLS\")\n",
    "plt.plot(0, 0, 'or', markeredgewidth=10, markeredgecolor=my_orange)\n",
    "plt.plot([-2.5, 0], [0, 0], color=my_orange, linewidth=1.5, linestyle=\"--\")\n",
    "plt.plot([0, 0], [-4, 0], color=my_orange, linewidth=1.5, linestyle=\"--\")\n",
    "plt.legend(numpoints=1, loc=2)  # numpoints = 1 for nicer display\n",
    "xlabels = 'Recentered and rescaled speed'\n",
    "ylabels = 'Recentered and rescaled distance'\n",
    "plt.xlabel(xlabels), plt.ylabel(ylabels)\n",
    "plt.title('Rescaled \\& recentered data')\n",
    "plt.tight_layout()\n",
    "plt.show()\n",
    "\n",
    "my_saving_display(fig, dirname,\n",
    "                  \"cars_data_plot_regression_gravity_recentered_rescaled\",\n",
    "                  imageformat)"
   ]
  },
  {
   "cell_type": "markdown",
   "metadata": {},
   "source": [
    "# Compare standardization:"
   ]
  },
  {
   "cell_type": "code",
   "execution_count": null,
   "metadata": {
    "collapsed": false
   },
   "outputs": [],
   "source": [
    "scaler = preprocessing.StandardScaler().fit(X)\n",
    "Xarray = X.values\n",
    "print(np.isclose(scaler.mean_, np.mean(Xarray)))\n",
    "print(np.array_equal(scaler.var_[0], np.var(Xarray)))\n",
    "print(np.array_equal(scaler.transform(X),\n",
    "                     (Xarray - np.mean(Xarray)) / np.std(Xarray)))\n",
    "print(np.array_equal(scaler.transform([[26]]),\n",
    "                     ([[26]] - np.mean(Xarray)) / np.std(Xarray)))"
   ]
  }
 ],
 "metadata": {
  "kernelspec": {
   "display_name": "Python 3",
   "language": "python",
   "name": "python3"
  },
  "language_info": {
   "codemirror_mode": {
    "name": "ipython",
    "version": 3
   },
   "file_extension": ".py",
   "mimetype": "text/x-python",
   "name": "python",
   "nbconvert_exporter": "python",
   "pygments_lexer": "ipython3",
   "version": "3.6.0"
  }
 },
 "nbformat": 4,
 "nbformat_minor": 2
}
